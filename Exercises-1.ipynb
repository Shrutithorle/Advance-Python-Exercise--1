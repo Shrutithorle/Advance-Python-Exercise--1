{
 "cells": [
  {
   "cell_type": "code",
   "execution_count": 3,
   "metadata": {},
   "outputs": [],
   "source": [
    "%matplotlib inline\n",
    "import pandas as pd"
   ]
  },
  {
   "cell_type": "code",
   "execution_count": 4,
   "metadata": {},
   "outputs": [
    {
     "data": {
      "text/html": [
       "<div>\n",
       "<style scoped>\n",
       "    .dataframe tbody tr th:only-of-type {\n",
       "        vertical-align: middle;\n",
       "    }\n",
       "\n",
       "    .dataframe tbody tr th {\n",
       "        vertical-align: top;\n",
       "    }\n",
       "\n",
       "    .dataframe thead th {\n",
       "        text-align: right;\n",
       "    }\n",
       "</style>\n",
       "<table border=\"1\" class=\"dataframe\">\n",
       "  <thead>\n",
       "    <tr style=\"text-align: right;\">\n",
       "      <th></th>\n",
       "      <th>title</th>\n",
       "      <th>year</th>\n",
       "      <th>name</th>\n",
       "      <th>type</th>\n",
       "      <th>character</th>\n",
       "      <th>n</th>\n",
       "    </tr>\n",
       "  </thead>\n",
       "  <tbody>\n",
       "    <tr>\n",
       "      <th>0</th>\n",
       "      <td>Closet Monster</td>\n",
       "      <td>2015</td>\n",
       "      <td>Buffy #1</td>\n",
       "      <td>actor</td>\n",
       "      <td>Buffy 4</td>\n",
       "      <td>NaN</td>\n",
       "    </tr>\n",
       "    <tr>\n",
       "      <th>1</th>\n",
       "      <td>Suuri illusioni</td>\n",
       "      <td>1985</td>\n",
       "      <td>Homo $</td>\n",
       "      <td>actor</td>\n",
       "      <td>Guests</td>\n",
       "      <td>22.0</td>\n",
       "    </tr>\n",
       "    <tr>\n",
       "      <th>2</th>\n",
       "      <td>Battle of the Sexes</td>\n",
       "      <td>2017</td>\n",
       "      <td>$hutter</td>\n",
       "      <td>actor</td>\n",
       "      <td>Bobby Riggs Fan</td>\n",
       "      <td>10.0</td>\n",
       "    </tr>\n",
       "    <tr>\n",
       "      <th>3</th>\n",
       "      <td>Secret in Their Eyes</td>\n",
       "      <td>2015</td>\n",
       "      <td>$hutter</td>\n",
       "      <td>actor</td>\n",
       "      <td>2002 Dodger Fan</td>\n",
       "      <td>NaN</td>\n",
       "    </tr>\n",
       "    <tr>\n",
       "      <th>4</th>\n",
       "      <td>Steve Jobs</td>\n",
       "      <td>2015</td>\n",
       "      <td>$hutter</td>\n",
       "      <td>actor</td>\n",
       "      <td>1988 Opera House Patron</td>\n",
       "      <td>NaN</td>\n",
       "    </tr>\n",
       "  </tbody>\n",
       "</table>\n",
       "</div>"
      ],
      "text/plain": [
       "                  title  year      name   type                character     n\n",
       "0        Closet Monster  2015  Buffy #1  actor                  Buffy 4   NaN\n",
       "1       Suuri illusioni  1985    Homo $  actor                   Guests  22.0\n",
       "2   Battle of the Sexes  2017   $hutter  actor          Bobby Riggs Fan  10.0\n",
       "3  Secret in Their Eyes  2015   $hutter  actor          2002 Dodger Fan   NaN\n",
       "4            Steve Jobs  2015   $hutter  actor  1988 Opera House Patron   NaN"
      ]
     },
     "execution_count": 4,
     "metadata": {},
     "output_type": "execute_result"
    }
   ],
   "source": [
    "cast = pd.read_csv('E:\\cast.csv')\n",
    "cast.head()"
   ]
  },
  {
   "cell_type": "markdown",
   "metadata": {
    "collapsed": true
   },
   "source": [
    "### How many movies are listed in the titles dataframe?"
   ]
  },
  {
   "cell_type": "code",
   "execution_count": 9,
   "metadata": {},
   "outputs": [
    {
     "name": "stdout",
     "output_type": "stream",
     "text": [
      "3611212\n"
     ]
    }
   ],
   "source": [
    "print(len(cast))"
   ]
  },
  {
   "cell_type": "markdown",
   "metadata": {
    "collapsed": true
   },
   "source": [
    "### What are the earliest two films listed in the titles dataframe?"
   ]
  },
  {
   "cell_type": "code",
   "execution_count": 12,
   "metadata": {},
   "outputs": [
    {
     "name": "stdout",
     "output_type": "stream",
     "text": [
      "             title  year      name   type character     n\n",
      "0   Closet Monster  2015  Buffy #1  actor   Buffy 4   NaN\n",
      "1  Suuri illusioni  1985    Homo $  actor    Guests  22.0\n"
     ]
    }
   ],
   "source": [
    "print(cast.head(2))"
   ]
  },
  {
   "cell_type": "code",
   "execution_count": null,
   "metadata": {
    "collapsed": true
   },
   "outputs": [],
   "source": []
  },
  {
   "cell_type": "markdown",
   "metadata": {
    "collapsed": true
   },
   "source": [
    "### How many movies have the title \"Hamlet\"?"
   ]
  },
  {
   "cell_type": "code",
   "execution_count": 30,
   "metadata": {},
   "outputs": [
    {
     "name": "stdout",
     "output_type": "stream",
     "text": [
      "count_of_hamlet_movies -  313\n"
     ]
    }
   ],
   "source": [
    "h = cast[cast[\"title\"] == \"Hamlet\"]\n",
    "number_of_hamlet_movies = len(h)\n",
    "print(\"count_of_hamlet_movies - \", number_of_hamlet_movies)"
   ]
  },
  {
   "cell_type": "code",
   "execution_count": null,
   "metadata": {
    "collapsed": true
   },
   "outputs": [],
   "source": []
  },
  {
   "cell_type": "markdown",
   "metadata": {
    "collapsed": true
   },
   "source": [
    "### How many movies are titled \"North by Northwest\"?"
   ]
  },
  {
   "cell_type": "code",
   "execution_count": 31,
   "metadata": {},
   "outputs": [
    {
     "name": "stdout",
     "output_type": "stream",
     "text": [
      "count_of_North_by_Northwest -  112\n"
     ]
    }
   ],
   "source": [
    "h = cast[cast[\"title\"] == \"North by Northwest\"]\n",
    "number_of_North_by_Northwest = len(h)\n",
    "print(\"count_of_North_by_Northwest - \", number_of_North_by_Northwest)"
   ]
  },
  {
   "cell_type": "code",
   "execution_count": null,
   "metadata": {
    "collapsed": true
   },
   "outputs": [],
   "source": []
  },
  {
   "cell_type": "markdown",
   "metadata": {
    "collapsed": true
   },
   "source": [
    "### When was the first movie titled \"Hamlet\" made?"
   ]
  },
  {
   "cell_type": "code",
   "execution_count": 37,
   "metadata": {},
   "outputs": [
    {
     "name": "stdout",
     "output_type": "stream",
     "text": [
      "first_hamlet_made in - 1910\n"
     ]
    }
   ],
   "source": [
    "hamlet_movies = cast[cast[\"title\"] == \"Hamlet\"]\n",
    "first_hamlet = hamlet_movies[\"year\"].min()\n",
    "print(\"first_hamlet_made in -\", first_hamlet)"
   ]
  },
  {
   "cell_type": "code",
   "execution_count": null,
   "metadata": {},
   "outputs": [],
   "source": []
  },
  {
   "cell_type": "markdown",
   "metadata": {
    "collapsed": true
   },
   "source": [
    "### List all of the \"Treasure Island\" movies from earliest to most recent."
   ]
  },
  {
   "cell_type": "code",
   "execution_count": 43,
   "metadata": {},
   "outputs": [
    {
     "name": "stdout",
     "output_type": "stream",
     "text": [
      "                   title  year                  name     type  \\\n",
      "830114   Treasure Island  1918        Charles Gorman    actor   \n",
      "840745   Treasure Island  1918             Joe Grant    actor   \n",
      "909157   Treasure Island  1918          Edwin Harley    actor   \n",
      "3298306  Treasure Island  1918      Violet Radcliffe  actress   \n",
      "1715014  Treasure Island  1918            Lloyd Perl    actor   \n",
      "...                  ...   ...                   ...      ...   \n",
      "2420089  Treasure Island  1999          Caveh Zahedi    actor   \n",
      "1637661  Treasure Island  1999         Nick Offerman    actor   \n",
      "1375015  Treasure Island  1999           J.P. Manoux    actor   \n",
      "1797264  Treasure Island  1999  Victor Raider-Wexler    actor   \n",
      "307749   Treasure Island  1999          Bob Byington    actor   \n",
      "\n",
      "                       character     n  \n",
      "830114           Prologue Player   NaN  \n",
      "840745   Undetermined child role   NaN  \n",
      "909157           Prologue Player   NaN  \n",
      "3298306         Long John Silver   3.0  \n",
      "1715014                Black Dog   4.0  \n",
      "...                          ...   ...  \n",
      "2420089                   Harold   9.0  \n",
      "1637661                   Samuel   2.0  \n",
      "1375015           Officer Hughes  18.0  \n",
      "1797264                 Samowitz  10.0  \n",
      "307749                    Thomas  12.0  \n",
      "\n",
      "[190 rows x 6 columns]\n"
     ]
    }
   ],
   "source": [
    "movies = cast[cast[\"title\"] == \"Treasure Island\"]\n",
    "movies = movies.sort_values(by=\"year\")\n",
    "print(movies)"
   ]
  },
  {
   "cell_type": "code",
   "execution_count": null,
   "metadata": {
    "collapsed": true
   },
   "outputs": [],
   "source": []
  },
  {
   "cell_type": "markdown",
   "metadata": {
    "collapsed": true
   },
   "source": [
    "### How many movies were made in the year 1950?"
   ]
  },
  {
   "cell_type": "code",
   "execution_count": 45,
   "metadata": {},
   "outputs": [
    {
     "name": "stdout",
     "output_type": "stream",
     "text": [
      "movies were made in year 1950 - 22006\n"
     ]
    }
   ],
   "source": [
    "movies = cast[cast[\"year\"] == 1950]\n",
    "mv = len(movies)\n",
    "print(\"movies were made in year 1950 -\",mv)"
   ]
  },
  {
   "cell_type": "code",
   "execution_count": null,
   "metadata": {
    "collapsed": true
   },
   "outputs": [],
   "source": []
  },
  {
   "cell_type": "markdown",
   "metadata": {
    "collapsed": true
   },
   "source": [
    "### How many movies were made in the year 1960?"
   ]
  },
  {
   "cell_type": "code",
   "execution_count": 46,
   "metadata": {},
   "outputs": [
    {
     "name": "stdout",
     "output_type": "stream",
     "text": [
      "movies were made in year 1960 - 18456\n"
     ]
    }
   ],
   "source": [
    "movies = cast[cast[\"year\"] == 1960]\n",
    "mv = len(movies)\n",
    "print(\"movies were made in year 1960 -\",mv)"
   ]
  },
  {
   "cell_type": "code",
   "execution_count": null,
   "metadata": {
    "collapsed": true
   },
   "outputs": [],
   "source": []
  },
  {
   "cell_type": "markdown",
   "metadata": {
    "collapsed": true
   },
   "source": [
    "### How many movies were made from 1950 through 1959?"
   ]
  },
  {
   "cell_type": "code",
   "execution_count": 54,
   "metadata": {},
   "outputs": [
    {
     "name": "stdout",
     "output_type": "stream",
     "text": [
      "number_of_movies_from_1950_through_1959 -  210986\n"
     ]
    }
   ],
   "source": [
    "movies = cast[(cast[\"year\"] >= 1950) & (cast[\"year\"] <= 1959)]\n",
    "n1 = len(movies)\n",
    "print(\"number_of_movies_from_1950_through_1959 - \",n1)"
   ]
  },
  {
   "cell_type": "code",
   "execution_count": null,
   "metadata": {
    "collapsed": true
   },
   "outputs": [],
   "source": []
  },
  {
   "cell_type": "markdown",
   "metadata": {
    "collapsed": true
   },
   "source": [
    "### In what years has a movie titled \"Batman\" been released?"
   ]
  },
  {
   "cell_type": "code",
   "execution_count": 62,
   "metadata": {},
   "outputs": [
    {
     "name": "stdout",
     "output_type": "stream",
     "text": [
      "95672      1943\n",
      "96186      1943\n",
      "114034     1989\n",
      "119476     1989\n",
      "149767     1989\n",
      "           ... \n",
      "2907449    1989\n",
      "3253550    1943\n",
      "3343947    1989\n",
      "3345872    1989\n",
      "3356826    1989\n",
      "Name: year, Length: 120, dtype: int64\n"
     ]
    }
   ],
   "source": [
    "movies = cast[cast[\"title\"] == \"Batman\"]\n",
    "print(movies[\"year\"])"
   ]
  },
  {
   "cell_type": "code",
   "execution_count": null,
   "metadata": {
    "collapsed": true
   },
   "outputs": [],
   "source": []
  },
  {
   "cell_type": "markdown",
   "metadata": {
    "collapsed": true
   },
   "source": [
    "### How many roles were there in the movie \"Inception\"?"
   ]
  },
  {
   "cell_type": "code",
   "execution_count": 64,
   "metadata": {},
   "outputs": [
    {
     "name": "stdout",
     "output_type": "stream",
     "text": [
      "number of roles in inception - 77\n"
     ]
    }
   ],
   "source": [
    "movies = cast[cast[\"title\"] == \"Inception\"]\n",
    "mv = len(movies)\n",
    "print(\"number of roles in inception -\",mv)"
   ]
  },
  {
   "cell_type": "code",
   "execution_count": null,
   "metadata": {
    "collapsed": true
   },
   "outputs": [],
   "source": []
  },
  {
   "cell_type": "markdown",
   "metadata": {
    "collapsed": true
   },
   "source": [
    "### How many roles in the movie \"Inception\" are NOT ranked by an \"n\" value?"
   ]
  },
  {
   "cell_type": "code",
   "execution_count": 72,
   "metadata": {},
   "outputs": [
    {
     "name": "stdout",
     "output_type": "stream",
     "text": [
      "number_of_unranked_roles - 51\n"
     ]
    }
   ],
   "source": [
    "data = cast[cast[\"title\"] == \"Inception\"]\n",
    "r = data[data[\"n\"].notnull()]\n",
    "unranked_roles = len(r)\n",
    "print(\"number_of_unranked_roles -\",unranked_roles)"
   ]
  },
  {
   "cell_type": "code",
   "execution_count": null,
   "metadata": {
    "collapsed": true
   },
   "outputs": [],
   "source": []
  },
  {
   "cell_type": "markdown",
   "metadata": {
    "collapsed": true
   },
   "source": [
    "### But how many roles in the movie \"Inception\" did receive an \"n\" value?"
   ]
  },
  {
   "cell_type": "code",
   "execution_count": 76,
   "metadata": {},
   "outputs": [
    {
     "name": "stdout",
     "output_type": "stream",
     "text": [
      "number_of_roles - 26\n"
     ]
    }
   ],
   "source": [
    "data = cast[cast[\"title\"] == \"Inception\"]\n",
    "r = data[data[\"n\"].isnull()]\n",
    "roles = len(r)\n",
    "print(\"number_of_roles -\",roles)"
   ]
  },
  {
   "cell_type": "code",
   "execution_count": null,
   "metadata": {
    "collapsed": true
   },
   "outputs": [],
   "source": []
  },
  {
   "cell_type": "markdown",
   "metadata": {
    "collapsed": true
   },
   "source": [
    "### Display the cast of \"North by Northwest\" in their correct \"n\"-value order, ignoring roles that did not earn a numeric \"n\" value."
   ]
  },
  {
   "cell_type": "code",
   "execution_count": 8,
   "metadata": {},
   "outputs": [
    {
     "name": "stdout",
     "output_type": "stream",
     "text": [
      "                       title  year                      name     type  \\\n",
      "794859   Too Loud a Solitude  2007             Paul Giamatti    actor   \n",
      "2524372              Orville  2009           Kathleen Benner  actress   \n",
      "3543326             Fu sheng  1996          Annette Shun Wah  actress   \n",
      "2039259      'Tis the Season  2015                Tad Sisler    actor   \n",
      "3261682        Balat-sibuyas  2003              Halina Perez  actress   \n",
      "...                      ...   ...                       ...      ...   \n",
      "2592754                Lloyd  2001             Lisa Calvillo  actress   \n",
      "683143                  Rift  2011               Leon Fazzio    actor   \n",
      "3269046                 Rift  2011  Brittany Alexis Phillips  actress   \n",
      "2778378                 Rift  2011     Catherine Fitzlanders  actress   \n",
      "2607564          Tribulation  2000            Marium Carvell  actress   \n",
      "\n",
      "                   character        n  \n",
      "794859                 Hanta      1.0  \n",
      "2524372                Kelly      1.0  \n",
      "3543326             Yen Chan      1.0  \n",
      "2039259                  Ben      1.0  \n",
      "3261682                Diana      1.0  \n",
      "...                      ...      ...  \n",
      "2592754  Spaghetti Spectator    938.0  \n",
      "683143                 Henry    999.0  \n",
      "3269046                Erica    999.0  \n",
      "2778378                Matty    999.0  \n",
      "2607564          Selma Davis  33613.0  \n",
      "\n",
      "[2231970 rows x 6 columns]\n"
     ]
    }
   ],
   "source": [
    "data1 = cast[pd.to_numeric(cast[\"n\"], errors=\"coerce\").notna()]\n",
    "datan = data1.sort_values(\"n\")\n",
    "print(datan)"
   ]
  },
  {
   "cell_type": "code",
   "execution_count": null,
   "metadata": {
    "collapsed": true
   },
   "outputs": [],
   "source": []
  },
  {
   "cell_type": "markdown",
   "metadata": {
    "collapsed": true
   },
   "source": [
    "### Display the entire cast, in \"n\"-order, of the 1972 film \"Sleuth\"."
   ]
  },
  {
   "cell_type": "code",
   "execution_count": 11,
   "metadata": {},
   "outputs": [
    {
     "name": "stdout",
     "output_type": "stream",
     "text": [
      "Cast of Sleuth:\n",
      "Michael Caine (Andrew)\n",
      "Laurence Olivier (Andrew Wyke)\n",
      "Michael Caine (Milo Tindle)\n",
      "Jude Law (Milo)\n",
      "Alec Cawthorne (Inspector Doppler)\n",
      "Harold Pinter (Man on T.V.)\n",
      "John (II) Matthews (Detective Sergeant Tarrant)\n",
      "Eve (III) Channing (Marguerite Wyke)\n",
      "Teddy Martin (Police Constable Higgs)\n"
     ]
    }
   ],
   "source": [
    "s = cast[cast[\"title\"] == \"Sleuth\"]\n",
    "ranked_roles = s[pd.notna(s[\"n\"])]\n",
    "ranked_roles = ranked_roles.sort_values(by=\"n\", ascending=True)\n",
    "print(\"Cast of Sleuth:\")\n",
    "for index, row in ranked_roles.iterrows():\n",
    "    print(f\"{row['name']} ({row['character']})\")"
   ]
  },
  {
   "cell_type": "code",
   "execution_count": null,
   "metadata": {
    "collapsed": true
   },
   "outputs": [],
   "source": []
  },
  {
   "cell_type": "markdown",
   "metadata": {
    "collapsed": true
   },
   "source": [
    "### Now display the entire cast, in \"n\"-order, of the 2007 version of \"Sleuth\"."
   ]
  },
  {
   "cell_type": "code",
   "execution_count": 19,
   "metadata": {},
   "outputs": [
    {
     "name": "stdout",
     "output_type": "stream",
     "text": [
      "Cast_of_Sleuth (2007):\n",
      "Michael Caine (Andrew)\n",
      "Jude Law (Milo)\n",
      "Harold Pinter (Man on T.V.)\n"
     ]
    }
   ],
   "source": [
    "casts = cast[(cast[\"title\"] == \"Sleuth\") & (cast[\"year\"] == 2007)]\n",
    "ranks = ranks.sort_values(by=\"n\", ascending=True)\n",
    "print(\"Cast_of_Sleuth (2007):\")\n",
    "for index, row in ranks.iterrows():\n",
    "    print(f\"{row['name']} ({row['character']})\")"
   ]
  },
  {
   "cell_type": "code",
   "execution_count": null,
   "metadata": {
    "collapsed": true
   },
   "outputs": [],
   "source": []
  },
  {
   "cell_type": "markdown",
   "metadata": {
    "collapsed": true
   },
   "source": [
    "### How many roles were credited in the silent 1921 version of Hamlet?"
   ]
  },
  {
   "cell_type": "code",
   "execution_count": 22,
   "metadata": {},
   "outputs": [
    {
     "name": "stdout",
     "output_type": "stream",
     "text": [
      "Number of roles in Hamlet (1921):  9\n"
     ]
    }
   ],
   "source": [
    "mv = cast[(cast[\"title\"] == \"Hamlet\") & (cast[\"year\"] == 1921)]\n",
    "roles = len(mv)\n",
    "print(\"Number of roles in Hamlet (1921): \",roles)"
   ]
  },
  {
   "cell_type": "code",
   "execution_count": null,
   "metadata": {
    "collapsed": true
   },
   "outputs": [],
   "source": []
  },
  {
   "cell_type": "markdown",
   "metadata": {
    "collapsed": true
   },
   "source": [
    "### How many roles were credited in Branagh’s 1996 Hamlet?"
   ]
  },
  {
   "cell_type": "code",
   "execution_count": 24,
   "metadata": {},
   "outputs": [
    {
     "name": "stdout",
     "output_type": "stream",
     "text": [
      "Number of roles in Hamlet (1996):  54\n"
     ]
    }
   ],
   "source": [
    "b = cast[(cast[\"title\"] == \"Hamlet\") & (cast[\"year\"] == 1996)]\n",
    "roles = len(b)\n",
    "print(\"Number of roles in Hamlet (1996): \",roles)"
   ]
  },
  {
   "cell_type": "code",
   "execution_count": null,
   "metadata": {
    "collapsed": true
   },
   "outputs": [],
   "source": []
  },
  {
   "cell_type": "markdown",
   "metadata": {
    "collapsed": true
   },
   "source": [
    "### How many \"Hamlet\" roles have been listed in all film credits through history?"
   ]
  },
  {
   "cell_type": "code",
   "execution_count": 28,
   "metadata": {},
   "outputs": [
    {
     "name": "stdout",
     "output_type": "stream",
     "text": [
      "Total number of ‘Hamlet’ roles are listed:  91\n"
     ]
    }
   ],
   "source": [
    "hamlet = cast[cast[\"character\"] == \"Hamlet\"]\n",
    "no_of_roles = len(hamlet)\n",
    "print(\"Total number of ‘Hamlet’ roles are listed: \", no_of_roles)"
   ]
  },
  {
   "cell_type": "code",
   "execution_count": null,
   "metadata": {
    "collapsed": true
   },
   "outputs": [],
   "source": []
  },
  {
   "cell_type": "markdown",
   "metadata": {
    "collapsed": true
   },
   "source": [
    "### How many people have played an \"Ophelia\"?"
   ]
  },
  {
   "cell_type": "code",
   "execution_count": 34,
   "metadata": {},
   "outputs": [
    {
     "name": "stdout",
     "output_type": "stream",
     "text": [
      "Total number of people played ‘Ophelia’ :  111\n"
     ]
    }
   ],
   "source": [
    "ophelia = cast[cast[\"character\"] == \"Ophelia\"]\n",
    "p = len(ophelia[\"name\"])\n",
    "print(\"Total number of people played ‘Ophelia’ : \", p)"
   ]
  },
  {
   "cell_type": "code",
   "execution_count": null,
   "metadata": {
    "collapsed": true
   },
   "outputs": [],
   "source": []
  },
  {
   "cell_type": "markdown",
   "metadata": {
    "collapsed": true
   },
   "source": [
    "### How many people have played a role called \"The Dude\"?"
   ]
  },
  {
   "cell_type": "code",
   "execution_count": 45,
   "metadata": {},
   "outputs": [
    {
     "name": "stdout",
     "output_type": "stream",
     "text": [
      "count of people in 'the dude' : 18\n"
     ]
    }
   ],
   "source": [
    "dt = cast[cast[\"character\"]== \"The Dude\"]\n",
    "d = len(dt[\"name\"].unique())\n",
    "print(\"count of people in 'the dude' :\",d)"
   ]
  },
  {
   "cell_type": "code",
   "execution_count": null,
   "metadata": {
    "collapsed": true
   },
   "outputs": [],
   "source": []
  },
  {
   "cell_type": "markdown",
   "metadata": {
    "collapsed": true
   },
   "source": [
    "### How many people have played a role called \"The Stranger\"?"
   ]
  },
  {
   "cell_type": "code",
   "execution_count": 47,
   "metadata": {},
   "outputs": [
    {
     "name": "stdout",
     "output_type": "stream",
     "text": [
      "number of peoples in 'the stranger' : 1\n"
     ]
    }
   ],
   "source": [
    "role = cast[cast[\"character\"] == \"the Stranger\"]\n",
    "pl = len(role[\"name\"])\n",
    "print(\"number of peoples in 'the stranger' :\",pl)"
   ]
  },
  {
   "cell_type": "code",
   "execution_count": null,
   "metadata": {
    "collapsed": true
   },
   "outputs": [],
   "source": []
  },
  {
   "cell_type": "markdown",
   "metadata": {
    "collapsed": true
   },
   "source": [
    "### How many roles has Sidney Poitier played throughout his career?"
   ]
  },
  {
   "cell_type": "code",
   "execution_count": 53,
   "metadata": {},
   "outputs": [
    {
     "name": "stdout",
     "output_type": "stream",
     "text": [
      "number of roles 'sidney poitier played' : 43\n"
     ]
    }
   ],
   "source": [
    "role = cast[cast[\"name\"] == \"Sidney Poitier\"]\n",
    "pl = len(role)\n",
    "print(\"number of roles 'sidney poitier played' :\",pl)"
   ]
  },
  {
   "cell_type": "code",
   "execution_count": null,
   "metadata": {
    "collapsed": true
   },
   "outputs": [],
   "source": []
  },
  {
   "cell_type": "markdown",
   "metadata": {
    "collapsed": true
   },
   "source": [
    "### How many roles has Judi Dench played?"
   ]
  },
  {
   "cell_type": "code",
   "execution_count": 56,
   "metadata": {},
   "outputs": [
    {
     "name": "stdout",
     "output_type": "stream",
     "text": [
      "number of roles of 'Judi Dench' : 55\n"
     ]
    }
   ],
   "source": [
    "judi = cast[cast[\"name\"] == \"Judi Dench\"]\n",
    "d = len(judi)\n",
    "print(\"number of roles of 'Judi Dench' :\",d)"
   ]
  },
  {
   "cell_type": "code",
   "execution_count": null,
   "metadata": {
    "collapsed": true
   },
   "outputs": [],
   "source": []
  },
  {
   "cell_type": "markdown",
   "metadata": {
    "collapsed": true
   },
   "source": [
    "### List the supporting roles (having n=2) played by Cary Grant in the 1940s, in order by year."
   ]
  },
  {
   "cell_type": "code",
   "execution_count": 72,
   "metadata": {},
   "outputs": [
    {
     "name": "stdout",
     "output_type": "stream",
     "text": [
      "Supporting roles played by Cary Grant in the 1940s:\n",
      "My Favorite Wife (1940) - Nick\n",
      "Penny Serenade (1941) - Roger Adams\n"
     ]
    }
   ],
   "source": [
    "cary_grant = cast[(cast[\"name\"] == \"Cary Grant\") & (cast[\"year\"].between(1940, 1949))]\n",
    "supporting_roles = cary_grant[cary_grant[\"n\"] == 2]\n",
    "roles = supporting_roles.sort_values(by=\"year\")\n",
    "print(\"Supporting roles played by Cary Grant in the 1940s:\")\n",
    "for index, row in roles.iterrows():\n",
    "    print(f\"{row['title']} ({row['year']}) - {row['character']}\")\n",
    "    "
   ]
  },
  {
   "cell_type": "code",
   "execution_count": null,
   "metadata": {},
   "outputs": [],
   "source": []
  },
  {
   "cell_type": "markdown",
   "metadata": {
    "collapsed": true
   },
   "source": [
    "### List the leading roles that Cary Grant played in the 1940s in order by year."
   ]
  },
  {
   "cell_type": "code",
   "execution_count": 79,
   "metadata": {
    "collapsed": true
   },
   "outputs": [
    {
     "name": "stdout",
     "output_type": "stream",
     "text": [
      "Leading roles played by Cary Grant in the 1940s:\n",
      "The Howards of Virginia (1940) - Matt Howard\n",
      "His Girl Friday (1940) - Walter Burns\n",
      "The Philadelphia Story (1940) - C. K. Dexter Haven\n",
      "Suspicion (1941) - Johnnie\n",
      "The Talk of the Town (1942) - Leopold Dilg\n",
      "Once Upon a Honeymoon (1942) - Patrick 'Pat' O'Toole\n",
      "Destination Tokyo (1943) - Capt. Cassidy\n",
      "Mr. Lucky (1943) - Joe Adams\n",
      "Mr. Lucky (1943) - Joe Bascopolous\n",
      "Once Upon a Time (1944) - Jerry Flynn\n",
      "Arsenic and Old Lace (1944) - Mortimer Brewster\n",
      "None But the Lonely Heart (1944) - Ernie Mott\n",
      "Night and Day (1946) - Cole Porter\n",
      "Notorious (1946) - Devlin\n",
      "The Bachelor and the Bobby-Soxer (1947) - Dick Nugent\n",
      "The Bishop's Wife (1947) - Dudley\n",
      "Mr. Blandings Builds His Dream House (1948) - Jim Blandings\n",
      "Every Girl Should Be Married (1948) - Dr. Madison Brown\n",
      "I Was a Male War Bride (1949) - Captain Henri Rochard\n"
     ]
    }
   ],
   "source": [
    "cary_grant = cast[(cast[\"name\"] == \"Cary Grant\") & (cast[\"year\"].between(1940, 1949))]\n",
    "leading_roles = cary_grant[cary_grant[\"n\"] == 1]\n",
    "roles = leading_roles.sort_values(by=\"year\")\n",
    "print(\"Leading roles played by Cary Grant in the 1940s:\")\n",
    "for index, row in sorted_roles.iterrows():\n",
    "    print(f\"{row['title']} ({row['year']}) - {row['character']}\")"
   ]
  },
  {
   "cell_type": "code",
   "execution_count": null,
   "metadata": {
    "collapsed": true
   },
   "outputs": [],
   "source": []
  },
  {
   "cell_type": "markdown",
   "metadata": {
    "collapsed": true
   },
   "source": [
    "### How many roles were available for actors in the 1950s?"
   ]
  },
  {
   "cell_type": "code",
   "execution_count": 87,
   "metadata": {},
   "outputs": [
    {
     "name": "stdout",
     "output_type": "stream",
     "text": [
      "roles available for actors: 154727\n"
     ]
    }
   ],
   "source": [
    "roles = cast[(cast[\"type\"] == \"actor\") & (cast[\"year\"].between(1950,1959))]\n",
    "a = len(roles)\n",
    "print(\"roles available for actors:\",a)\n"
   ]
  },
  {
   "cell_type": "code",
   "execution_count": null,
   "metadata": {
    "collapsed": true
   },
   "outputs": [],
   "source": []
  },
  {
   "cell_type": "markdown",
   "metadata": {
    "collapsed": true
   },
   "source": [
    "### How many roles were available for actresses in the 1950s?"
   ]
  },
  {
   "cell_type": "code",
   "execution_count": 88,
   "metadata": {},
   "outputs": [
    {
     "name": "stdout",
     "output_type": "stream",
     "text": [
      "roles available for actresses: 56259\n"
     ]
    }
   ],
   "source": [
    "roles_for_actresses = cast[(cast[\"type\"] == \"actress\") & (cast[\"year\"].between(1950,1959))]\n",
    "a = len(roles_for_actresses)\n",
    "print(\"roles available for actresses:\",a)"
   ]
  },
  {
   "cell_type": "code",
   "execution_count": null,
   "metadata": {
    "collapsed": true
   },
   "outputs": [],
   "source": []
  },
  {
   "cell_type": "markdown",
   "metadata": {
    "collapsed": true
   },
   "source": [
    "### How many leading roles (n=1) were available from the beginning of film history through 1980?"
   ]
  },
  {
   "cell_type": "code",
   "execution_count": 92,
   "metadata": {},
   "outputs": [
    {
     "name": "stdout",
     "output_type": "stream",
     "text": [
      "Number of leading roles before 1981: 63924\n"
     ]
    }
   ],
   "source": [
    "movies1 = cast[cast[\"year\"] < 1981]\n",
    "leading_roles = movies1 [movies1[\"n\"] == 1]\n",
    "num = len(leading_roles)\n",
    "print(\"Number of leading roles before 1981:\", num_leading_roles)\n"
   ]
  },
  {
   "cell_type": "code",
   "execution_count": null,
   "metadata": {
    "collapsed": true
   },
   "outputs": [],
   "source": []
  },
  {
   "cell_type": "markdown",
   "metadata": {
    "collapsed": true
   },
   "source": [
    "### How many non-leading roles were available through from the beginning of film history through 1980?"
   ]
  },
  {
   "cell_type": "code",
   "execution_count": 96,
   "metadata": {},
   "outputs": [
    {
     "name": "stdout",
     "output_type": "stream",
     "text": [
      "Number of non leading roles before 1981: 1158704\n"
     ]
    }
   ],
   "source": [
    "movies2 = cast[cast[\"year\"] < 1981]\n",
    "non_leading_roles = len(movies2)\n",
    "num = len(movies2)\n",
    "print(\"Number of non leading roles before 1981:\", num)"
   ]
  },
  {
   "cell_type": "code",
   "execution_count": null,
   "metadata": {
    "collapsed": true
   },
   "outputs": [],
   "source": []
  },
  {
   "cell_type": "markdown",
   "metadata": {
    "collapsed": true
   },
   "source": [
    "### How many roles through 1980 were minor enough that they did not warrant a numeric \"n\" rank?"
   ]
  },
  {
   "cell_type": "code",
   "execution_count": 101,
   "metadata": {},
   "outputs": [
    {
     "name": "stdout",
     "output_type": "stream",
     "text": [
      "Number of minor roles before 1981: 438086\n"
     ]
    }
   ],
   "source": [
    "moviess = cast[cast[\"year\"] < 1981]\n",
    "\n",
    "minor_roles = moviess[moviess [\"n\"].isna()]\n",
    "roles = len(minor_roles)\n",
    "print(\"Number of minor roles before 1981:\", num_minor_roles)\n"
   ]
  },
  {
   "cell_type": "code",
   "execution_count": null,
   "metadata": {
    "collapsed": true
   },
   "outputs": [],
   "source": []
  }
 ],
 "metadata": {
  "kernelspec": {
   "display_name": "Python 3 (ipykernel)",
   "language": "python",
   "name": "python3"
  },
  "language_info": {
   "codemirror_mode": {
    "name": "ipython",
    "version": 3
   },
   "file_extension": ".py",
   "mimetype": "text/x-python",
   "name": "python",
   "nbconvert_exporter": "python",
   "pygments_lexer": "ipython3",
   "version": "3.11.5"
  }
 },
 "nbformat": 4,
 "nbformat_minor": 1
}
